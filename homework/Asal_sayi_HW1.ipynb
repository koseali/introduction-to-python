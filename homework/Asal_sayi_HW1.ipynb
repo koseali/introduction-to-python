{
 "cells": [
  {
   "cell_type": "code",
   "execution_count": 8,
   "metadata": {
    "scrolled": true
   },
   "outputs": [
    {
     "name": "stdout",
     "output_type": "stream",
     "text": [
      "Lütfen 2 den büyük doğal sayı giriniz:  14\n",
      "basamak sayisi 2\n",
      "aralik: 1\n",
      "Rastgele sayi 2 iki basamakli :  32\n",
      "Yeni aralık 2\n",
      "random sonucu gelen baslangic degeri:  2\n",
      "random sonucu son deger 32\n"
     ]
    },
    {
     "data": {
      "text/plain": [
       "[2, 3, 5, 7, 11, 13, 17, 19, 23, 29, 31]"
      ]
     },
     "execution_count": 8,
     "metadata": {},
     "output_type": "execute_result"
    }
   ],
   "source": [
    "# Random Sayı oluşturma\n",
    "sayi = int(input(\"Lütfen 2 den büyük doğal sayı giriniz:  \"))\n",
    "asalsayi_listesi = []\n",
    "while(int(sayi) <=2):\n",
    "    sayi = input(\"Lütfen 2 den büyük doğal sayı giriniz:  \")\n",
    "    \n",
    "basamak_sayisi = 0\n",
    "sayi_volbir = int(sayi)\n",
    "\n",
    "while(sayi > 1):\n",
    "    sayi = sayi / 10\n",
    "    if(0 < sayi <= 1):\n",
    "        basamak_sayisi += 1\n",
    "        print(f\"basamak sayisi\",basamak_sayisi) # burada zaten döngü biter.\n",
    "        aralik = round(sayi * 10 )\n",
    "        print(f\"aralik:\",aralik)\n",
    "     \n",
    "    elif(sayi >1):\n",
    "        basamak_sayisi += 1\n",
    "# rastgelelik\n",
    "if(basamak_sayisi <=2):\n",
    "    sayi = sayi_volbir + 50\n",
    "    sayi = round(sayi / basamak_sayisi) * aralik\n",
    "    print(f\"Rastgele sayi 2 iki basamakli : \",sayi)\n",
    "else:\n",
    "    sayi = sayi_volbir\n",
    "    sayi = round(sayi / basamak_sayisi) * aralik\n",
    "    print(f\"Rastgele sayi  3 basamak buyuk : \",sayi)\n",
    "\n",
    "if(sayi > 1000):\n",
    "    sayi = round(sayi/9)  # ekstra rastgelelik.\n",
    "    print(sayi)\n",
    "    \n",
    "\n",
    "# sayi basamak alıcam ona göre basamak al eğer 100 den küçükse son değeri 50 ekle sayıya\n",
    "# elimde ne var random asal sayı için range im var ve bu rangede benim kaçar kaçar atlayacağım var aralik ve sayi\n",
    "# artık bu rastgele sayilar içinde asal sayımı bulabilirim.\n",
    "\n",
    "\n",
    "# hata sayim küçük ama aralıüım yüksek aralık olursa çarpan olur olmaz.\n",
    "\n",
    "#for(i in range(2,sayi,aralik))\n",
    "\n",
    "# aralik değerini de baslangic degeri olarak alalım. sayi da son sınır.\n",
    "k=0\n",
    "i = 0\n",
    "l = 0\n",
    "\n",
    "if (aralik <= 1): \n",
    "    aralik += 1\n",
    "    print(f\"Yeni aralık\",aralik)\n",
    "    print(f\"random sonucu gelen baslangic degeri: \",aralik)\n",
    "    print(f\"random sonucu son deger\",sayi)\n",
    "    \n",
    "\n",
    "for i in range(aralik,sayi):\n",
    "    asal = True\n",
    "    for l in range(2,i):\n",
    "        if( i % l == 0 ):\n",
    "            asal = False\n",
    "    if(asal == True):\n",
    "        asalsayi_listesi.append(i)\n",
    "\n",
    "\n",
    "# Rastgelef değerlerimi elde ettim şimdi asal sayıları bulabilirim.\n",
    "\n",
    "asalsayi_listesi\n",
    "\n"
   ]
  },
  {
   "cell_type": "code",
   "execution_count": 14,
   "metadata": {
    "scrolled": true
   },
   "outputs": [
    {
     "name": "stdout",
     "output_type": "stream",
     "text": [
      "2\n",
      "3\n",
      "5\n",
      "7\n",
      "11\n",
      "13\n",
      "17\n",
      "19\n",
      "23\n",
      "29\n",
      "31\n",
      "2 3 5 7 11 13 17 19 23 "
     ]
    }
   ],
   "source": [
    "liste_dokuz = []\n",
    "counter = 0\n",
    "c = 0\n",
    "for c in asalsayi_listesi:\n",
    "    print(c)\n",
    "    if ( counter <=8):\n",
    "        liste_dokuz.append(c)\n",
    "        counter += 1\n",
    "for i in 0, 3, 6:\n",
    "     for j in 0, 1, 2:\n",
    "        print(liste_dokuz[i+j], end= ' ')"
   ]
  },
  {
   "cell_type": "code",
   "execution_count": null,
   "metadata": {},
   "outputs": [],
   "source": []
  },
  {
   "cell_type": "markdown",
   "metadata": {},
   "source": [
    "# Asal Sayıları Bulma\n"
   ]
  },
  {
   "cell_type": "code",
   "execution_count": null,
   "metadata": {},
   "outputs": [],
   "source": [
    "# Matrise Kaydete"
   ]
  },
  {
   "cell_type": "code",
   "execution_count": 28,
   "metadata": {},
   "outputs": [
    {
     "data": {
      "text/plain": [
       "[]"
      ]
     },
     "execution_count": 28,
     "metadata": {},
     "output_type": "execute_result"
    }
   ],
   "source": [
    "asalsayi_listesi\n"
   ]
  },
  {
   "cell_type": "code",
   "execution_count": 40,
   "metadata": {},
   "outputs": [
    {
     "data": {
      "text/plain": [
       "[2,\n",
       " 3,\n",
       " 5,\n",
       " 7,\n",
       " 11,\n",
       " 13,\n",
       " 17,\n",
       " 19,\n",
       " 23,\n",
       " 29,\n",
       " 31,\n",
       " 37,\n",
       " 41,\n",
       " 43,\n",
       " 47,\n",
       " 53,\n",
       " 59,\n",
       " 61,\n",
       " 67,\n",
       " 71,\n",
       " 73,\n",
       " 79,\n",
       " 83,\n",
       " 89,\n",
       " 97]"
      ]
     },
     "execution_count": 40,
     "metadata": {},
     "output_type": "execute_result"
    }
   ],
   "source": [
    "i = 0\n",
    "j = 0\n",
    "liste = []\n",
    "for i in range(2,100):\n",
    "    asal = True\n",
    "    for j in range(2,i):\n",
    "        if(i % j == 0):\n",
    "            asal = False\n",
    "    if(asal == True):\n",
    "        liste.append(i)\n",
    "liste"
   ]
  },
  {
   "cell_type": "code",
   "execution_count": null,
   "metadata": {},
   "outputs": [],
   "source": []
  }
 ],
 "metadata": {
  "kernelspec": {
   "display_name": "Python 3",
   "language": "python",
   "name": "python3"
  },
  "language_info": {
   "codemirror_mode": {
    "name": "ipython",
    "version": 3
   },
   "file_extension": ".py",
   "mimetype": "text/x-python",
   "name": "python",
   "nbconvert_exporter": "python",
   "pygments_lexer": "ipython3",
   "version": "3.8.5"
  }
 },
 "nbformat": 4,
 "nbformat_minor": 4
}
